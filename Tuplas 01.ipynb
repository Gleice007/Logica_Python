{
 "cells": [
  {
   "cell_type": "markdown",
   "id": "0e59edb0-398a-44a6-9acb-9cdbaead9b5f",
   "metadata": {},
   "source": [
    "# Tuplas\n",
    "\n",
    "## Estrutura:\n",
    "\n",
    "tupla = (valor, valor, valor,...)\n",
    "\n",
    "## Diferença\n",
    "\n",
    "Parece uma lista, mas é imutável.\n",
    "\n",
    "## Vantagens:\n",
    "\n",
    "    . Mais eficiente (em termos de performance)\n",
    "    . Protege a base de dados (por ser imutável)\n",
    "    . Muito usado para dados heterogêneos\n",
    "\n",
    "## Criando tuplas    "
   ]
  },
  {
   "cell_type": "code",
   "execution_count": 7,
   "id": "169ea224-e3c9-4e38-940a-0712922b5bda",
   "metadata": {},
   "outputs": [
    {
     "name": "stdout",
     "output_type": "stream",
     "text": [
      "('Lira', '25/08/2020', '15/02/1994', 2000, 'Estagiário')\n"
     ]
    }
   ],
   "source": [
    "vendas = ('Lira', '25/08/2020', '15/02/1994', 2000, 'Estagiário')\n",
    "print(vendas)"
   ]
  },
  {
   "cell_type": "markdown",
   "id": "5cb7f047-bdc6-4ee9-92f0-d82564535f6d",
   "metadata": {},
   "source": [
    "## Acessando o valor de uma tupla"
   ]
  },
  {
   "cell_type": "code",
   "execution_count": 11,
   "id": "645f3bc5-ffd4-4bb8-b906-7fe92cf82c24",
   "metadata": {},
   "outputs": [
    {
     "name": "stdout",
     "output_type": "stream",
     "text": [
      "2000\n"
     ]
    }
   ],
   "source": [
    "nome = vendas [0]\n",
    "data_contratacao = vendas [1]\n",
    "data_nascimento = vendas [2]\n",
    "salario = vendas [3]\n",
    "cargo = vendas [4]\n",
    "\n",
    "print(salario)"
   ]
  },
  {
   "cell_type": "markdown",
   "id": "2a647315-6ec1-47cb-8344-2d09f0767bb9",
   "metadata": {},
   "source": [
    "    . O enumerate que vínhamos usando até agora, na verdade, cria uma tupla para a gente. Vamos ver na prática: "
   ]
  },
  {
   "cell_type": "code",
   "execution_count": 14,
   "id": "e1246773-b0b6-4787-85da-1aaebfcb79ca",
   "metadata": {},
   "outputs": [
    {
     "name": "stdout",
     "output_type": "stream",
     "text": [
      "João vendeu 1000 unidades\n",
      "Lira vendeu 2000 unidades\n",
      "Ana vendeu 300 unidades\n",
      "Maria vendeu 150 unidades\n"
     ]
    }
   ],
   "source": [
    "vendas = [1000, 2000, 300, 150]\n",
    "funcionarios = ['João', 'Lira', 'Ana', 'Maria', 'Paula']\n",
    "\n",
    "for i, venda in enumerate(vendas):\n",
    "        print('{} vendeu {} unidades'.format(funcionarios[i], venda))    "
   ]
  },
  {
   "cell_type": "code",
   "execution_count": null,
   "id": "d8a704fc-17bf-46f9-aa3c-b827bb1f42fc",
   "metadata": {},
   "outputs": [],
   "source": []
  }
 ],
 "metadata": {
  "kernelspec": {
   "display_name": "Python 3 (ipykernel)",
   "language": "python",
   "name": "python3"
  },
  "language_info": {
   "codemirror_mode": {
    "name": "ipython",
    "version": 3
   },
   "file_extension": ".py",
   "mimetype": "text/x-python",
   "name": "python",
   "nbconvert_exporter": "python",
   "pygments_lexer": "ipython3",
   "version": "3.12.4"
  }
 },
 "nbformat": 4,
 "nbformat_minor": 5
}
