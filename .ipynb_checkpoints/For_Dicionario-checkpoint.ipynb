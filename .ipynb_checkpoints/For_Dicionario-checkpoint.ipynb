{
 "cells": [
  {
   "cell_type": "markdown",
   "id": "339bccc0-f879-4d8c-b85b-833a8e325d14",
   "metadata": {},
   "source": [
    ". Qual total de notebooks vendidos?"
   ]
  },
  {
   "cell_type": "code",
   "execution_count": null,
   "id": "c282abbd-f4a3-4d26-8981-6af4814ac42e",
   "metadata": {},
   "outputs": [],
   "source": [
    "total_notebooks = 0 # variavel criada\n",
    "for chave in vendas_tecnologia: # nome do dicionario\n",
    "    if 'notebook' in chave:\n",
    "        total_notebooks = total_notebooks + vendas_tecnologia[chave] \n",
    "print(total_notebooks)"
   ]
  }
 ],
 "metadata": {
  "kernelspec": {
   "display_name": "Python 3 (ipykernel)",
   "language": "python",
   "name": "python3"
  },
  "language_info": {
   "codemirror_mode": {
    "name": "ipython",
    "version": 3
   },
   "file_extension": ".py",
   "mimetype": "text/x-python",
   "name": "python",
   "nbconvert_exporter": "python",
   "pygments_lexer": "ipython3",
   "version": "3.12.4"
  }
 },
 "nbformat": 4,
 "nbformat_minor": 5
}
