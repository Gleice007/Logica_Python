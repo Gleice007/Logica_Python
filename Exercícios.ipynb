{
 "cells": [
  {
   "cell_type": "markdown",
   "id": "b06c69a6-c900-4364-a21b-75a57e88f7c1",
   "metadata": {},
   "source": [
    "# Exercícios\n",
    "\n",
    "# 1. Input até o usuário parar \n",
    "Vamos criar um sistema de vendas. Nosso programa deve registrar os produtos e as quantidades (2 inputs) e adicionar em uma lista.\n",
    "\n",
    "O programa deve continuar rodando até o input ser vazio, ou seja, o usuário aperta enter sem digitar nenhum produto ou quantidade.\n",
    "\n",
    "Ao final do programa, ele deve printar todos os produtos e quantidades vendidas.\n",
    "\n",
    "Obs: Caso queira, para o print ficar mais visual, pode usar o join para cada item ser printado em uma linha. Sugestão para sua lista de produtos vendidos."
   ]
  },
  {
   "cell_type": "code",
   "execution_count": 4,
   "id": "5a125eaa-f447-4e9b-be50-22300e62ad3a",
   "metadata": {},
   "outputs": [],
   "source": [
    "vendas = [\n",
    "    ['maçã', 5],\n",
    "    ['banana', 15],\n",
    "    ['azeite', 1],\n",
    "    ['vinho', 3],\n",
    "]"
   ]
  },
  {
   "cell_type": "code",
   "execution_count": 10,
   "id": "93d2f65d-4c4d-4851-934a-49463c5a6673",
   "metadata": {},
   "outputs": [
    {
     "name": "stdin",
     "output_type": "stream",
     "text": [
      "Qual o produto? biscoito\n",
      "Qual a quantidade? 15\n",
      "Qual o produto? maçã\n",
      "Qual a quantidade? 52\n",
      "Qual o produto? laranja\n",
      "Qual a quantidade? 13\n",
      "Qual o produto? \n"
     ]
    },
    {
     "name": "stdout",
     "output_type": "stream",
     "text": [
      "[['biscoito', 15], ['maçã', 52], ['laranja', 13]]\n"
     ]
    }
   ],
   "source": [
    "vendas = []\n",
    "\n",
    "while True:\n",
    "    produto = input('Qual o produto?')\n",
    "    if not produto:\n",
    "        break\n",
    "    qtde = int(input('Qual a quantidade?'))\n",
    "    vendas.append([produto, qtde])\n",
    "print(vendas)    "
   ]
  },
  {
   "cell_type": "code",
   "execution_count": 12,
   "id": "89862ab8-7ec9-4881-b184-9eaecd7619a5",
   "metadata": {},
   "outputs": [
    {
     "name": "stdin",
     "output_type": "stream",
     "text": [
      "Qual o produto? uva\n",
      "Qual a quantidade? 10\n",
      "Qual o produto? pera\n",
      "Qual a quantidade? 15\n",
      "Qual o produto? maçã\n",
      "Qual a quantidade? 20\n",
      "Qual o produto? manga\n",
      "Qual a quantidade? 19\n",
      "Qual o produto? \n"
     ]
    },
    {
     "name": "stdout",
     "output_type": "stream",
     "text": [
      "[['uva', 10], ['pera', 15], ['maçã', 20], ['manga', 19]]\n"
     ]
    }
   ],
   "source": [
    "vendas = []\n",
    "\n",
    "while True:\n",
    "    produto = input('Qual o produto?')\n",
    "    if not produto:\n",
    "        break\n",
    "    qtde = int(input('Qual a quantidade?'))\n",
    "    vendas.append([produto, qtde])\n",
    "print(vendas)    "
   ]
  },
  {
   "cell_type": "code",
   "execution_count": null,
   "id": "f1cca524-5306-4764-9a21-e89650c922d2",
   "metadata": {},
   "outputs": [],
   "source": []
  }
 ],
 "metadata": {
  "kernelspec": {
   "display_name": "Python 3 (ipykernel)",
   "language": "python",
   "name": "python3"
  },
  "language_info": {
   "codemirror_mode": {
    "name": "ipython",
    "version": 3
   },
   "file_extension": ".py",
   "mimetype": "text/x-python",
   "name": "python",
   "nbconvert_exporter": "python",
   "pygments_lexer": "ipython3",
   "version": "3.12.4"
  }
 },
 "nbformat": 4,
 "nbformat_minor": 5
}
