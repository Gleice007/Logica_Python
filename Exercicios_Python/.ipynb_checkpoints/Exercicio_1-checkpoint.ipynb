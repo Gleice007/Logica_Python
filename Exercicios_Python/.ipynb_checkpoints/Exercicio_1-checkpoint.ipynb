{
 "cells": [
  {
   "cell_type": "code",
   "execution_count": 1,
   "id": "a87a1b9e-46bf-4047-93a4-4116d85247e9",
   "metadata": {},
   "outputs": [
    {
     "name": "stdout",
     "output_type": "stream",
     "text": [
      "Bonificação total 7000\n"
     ]
    }
   ],
   "source": [
    "anos_casa_funcionarios = [10, 15, 20, 25, 30, 47, 2, 5, 5, 6, 18, 32, 10, 1, 1, 2, 3, 3, 2, 1, 10, 40, 21, 10, 1, 2, 5, 7, 7, 6, 9, 19]\n",
    "\n",
    "qtde_funcionarios_bonus = 0\n",
    "premio = 1000\n",
    "\n",
    "for tempo in anos_casa_funcionarios:\n",
    "    if tempo >= 20:\n",
    "        qtde_funcionarios_bonus += 1\n",
    "print(\"Bonificação total\", qtde_funcionarios_bonus * premio)        "
   ]
  },
  {
   "cell_type": "code",
   "execution_count": 5,
   "id": "c37df48a-6110-45f7-bb8c-0c2b961ede29",
   "metadata": {},
   "outputs": [
    {
     "name": "stdin",
     "output_type": "stream",
     "text": [
      "Digite a nota: 6.5\n",
      "Digite a nota: 7.0\n",
      "Digite a nota: 2.5\n",
      "Digite a nota: 9.5\n"
     ]
    },
    {
     "name": "stdout",
     "output_type": "stream",
     "text": [
      "Média: 6.375\n",
      "Maior nota: 9.5\n",
      "Menor nota: 2.5\n"
     ]
    }
   ],
   "source": [
    "notas = []\n",
    "\n",
    "for i in range(4):\n",
    "    nota = float(input(\"Digite a nota:\"))\n",
    "    notas.append(nota)\n",
    "\n",
    "print(\"Média:\", sum(notas) / len(notas))\n",
    "print(\"Maior nota:\", max(notas))\n",
    "print(\"Menor nota:\", min(notas))"
   ]
  },
  {
   "cell_type": "code",
   "execution_count": 11,
   "id": "6c6f82fd-ada3-42f6-ab19-eaf86bf3f676",
   "metadata": {},
   "outputs": [
    {
     "name": "stdout",
     "output_type": "stream",
     "text": [
      "Insira as 4 notas do período\n"
     ]
    },
    {
     "name": "stdin",
     "output_type": "stream",
     "text": [
      "Digite a nota: 9\n",
      "Digite a nota: 4.5\n",
      "Digite a nota: 5.0\n",
      "Digite a nota: 10\n"
     ]
    },
    {
     "name": "stdout",
     "output_type": "stream",
     "text": [
      "Média 7.125\n",
      "APROVADO\n"
     ]
    }
   ],
   "source": [
    "notas = []\n",
    "\n",
    "print(\"Insira as 4 notas do período\")\n",
    "for i in range(4):\n",
    "    nota = float(input(\"Digite a nota:\"))\n",
    "    notas.append(nota)\n",
    "\n",
    "media = sum(notas) / len(notas)\n",
    "print(\"Média\", media)\n",
    "if media >= 7:\n",
    "    print(\"APROVADO\")\n",
    "else:\n",
    "    nota_prova_final = float(input(\"Nota Prova Final:\"))\n",
    "    media = (media + nota_prova_final) / 2\n",
    "    print(\"Média depois da final\", média)\n",
    "    if media >= 5:\n",
    "        print(\"APROVADO\")\n",
    "    else:\n",
    "        print(\"REPROVADO\")"
   ]
  },
  {
   "cell_type": "code",
   "execution_count": 27,
   "id": "fbce1f31-f0f2-4b07-b973-a40e0fbb7d81",
   "metadata": {},
   "outputs": [
    {
     "name": "stdin",
     "output_type": "stream",
     "text": [
      "Nome Contratante \n",
      "CPF Contratante \n",
      "Rua e número do endereço do contratante \n",
      "Cidade Contratante \n",
      "Estado Contratante \n",
      "Data no Formato DD/MM/AAAA \n"
     ]
    },
    {
     "ename": "NameError",
     "evalue": "name 'texto_contrato' is not defined",
     "output_type": "error",
     "traceback": [
      "\u001b[1;31m---------------------------------------------------------------------------\u001b[0m",
      "\u001b[1;31mNameError\u001b[0m                                 Traceback (most recent call last)",
      "Cell \u001b[1;32mIn[27], line 12\u001b[0m\n\u001b[0;32m      9\u001b[0m mes_contrato \u001b[38;5;241m=\u001b[39m data_contrato[\u001b[38;5;241m3\u001b[39m:\u001b[38;5;241m5\u001b[39m]\n\u001b[0;32m     10\u001b[0m ano_contrato \u001b[38;5;241m=\u001b[39m data_contrato[\u001b[38;5;241m6\u001b[39m:]\n\u001b[1;32m---> 12\u001b[0m texto_contrato \u001b[38;5;241m=\u001b[39m texto_contrato\u001b[38;5;241m.\u001b[39mreplace(\u001b[38;5;124m\"\u001b[39m\u001b[38;5;124mNOME_CONTRATANTE\u001b[39m\u001b[38;5;124m\"\u001b[39m, nome_contratante)\n\u001b[0;32m     13\u001b[0m texto_contrato \u001b[38;5;241m=\u001b[39m texto_contrato\u001b[38;5;241m.\u001b[39mreplace(\u001b[38;5;124m\"\u001b[39m\u001b[38;5;124mCPF_CONTRATANTE\u001b[39m\u001b[38;5;124m\"\u001b[39m, cpf_contratante)\n\u001b[0;32m     14\u001b[0m texto_contrato \u001b[38;5;241m=\u001b[39m texto_contrato\u001b[38;5;241m.\u001b[39mreplace(\u001b[38;5;124m\"\u001b[39m\u001b[38;5;124mRUA_CONTRATANTE\u001b[39m\u001b[38;5;124m\"\u001b[39m, rua_contratante)\n",
      "\u001b[1;31mNameError\u001b[0m: name 'texto_contrato' is not defined"
     ]
    }
   ],
   "source": [
    "nome_contratante = input(\"Nome Contratante\")\n",
    "cpf_contratante = input(\"CPF Contratante\")\n",
    "rua_contratante = input(\"Rua e número do endereço do contratante\")\n",
    "cidade_contratante = input(\"Cidade Contratante\")\n",
    "estado_contratante = input(\"Estado Contratante\")\n",
    "data_contrato = input(\"Data no Formato DD/MM/AAAA\")\n",
    "\n",
    "dia_contrato = data_contrato[:2]\n",
    "mes_contrato = data_contrato[3:5]\n",
    "ano_contrato = data_contrato[6:]\n",
    "\n",
    "texto_contrato = texto_contrato.replace(\"NOME_CONTRATANTE\", nome_contratante)\n",
    "texto_contrato = texto_contrato.replace(\"CPF_CONTRATANTE\", cpf_contratante)\n",
    "texto_contrato = texto_contrato.replace(\"RUA_CONTRATANTE\", rua_contratante)\n",
    "texto_contrato = texto_contrato.replace(\"CIDADE_CONTRATANTE\", cidade_contratante)\n",
    "texto_contrato = texto_contrato.replace(\"ESTADO_CONTRATANTE\", estado_contratante)\n",
    "texto_contrato = texto_contrato.replace(\"DIA_DATA\", dia_contrato)\n",
    "texto_contrato = texto_contrato.replace(\"MES_DATA\", mes_contrato)\n",
    "texto_contrato = texto_contrato.replace(\"ANO_DATA\", ano_contrato)\n",
    "\n",
    "print(texto_contrato)"
   ]
  },
  {
   "cell_type": "code",
   "execution_count": 35,
   "id": "7cba4fe5-cb4b-46c2-bcc1-9fd65a5e37b0",
   "metadata": {},
   "outputs": [
    {
     "name": "stdin",
     "output_type": "stream",
     "text": [
      "Insira seu telefone no formato +55XX999999999 5581999084087\n"
     ]
    },
    {
     "name": "stdout",
     "output_type": "stream",
     "text": [
      "Esse telefone não é brasileiro ou foi inserido no formato errado\n"
     ]
    }
   ],
   "source": [
    "telefone = input(\"Insira seu telefone no formato +55XX999999999\")\n",
    "\n",
    "telefone = telefone.replace(\" \", \"\").replace(\"(\", \"\").replace(\")\", \"\").replace(\"-\", \"\")\n",
    "if telefone[:3]!=\"+55\":\n",
    "    print(\"Esse telefone não é brasileiro ou foi inserido no formato errado\")\n",
    "else:\n",
    "    if len(telefone)!=13 and len(telefone)!=14:\n",
    "        print(\"Esse telefone não é brasileiro ou foi inserido no formato errado\")\n",
    "    else:\n",
    "        print(\"Telefone válido:\", telefone)\n"
   ]
  },
  {
   "cell_type": "code",
   "execution_count": 41,
   "id": "8cbe48e1-437d-44e1-8dff-7936b15fda14",
   "metadata": {},
   "outputs": [
    {
     "name": "stdin",
     "output_type": "stream",
     "text": [
      "Insira uma URL https://www.hashtagtreinamentos.com/blog\n"
     ]
    },
    {
     "name": "stdout",
     "output_type": "stream",
     "text": [
      "Protocolo https\n",
      "Domínio hashtagtreinamentos.com\n",
      "Caminho /blo\n",
      "Parâmetros URL ['https://www.hashtagtreinamentos.com/blog']\n"
     ]
    }
   ],
   "source": [
    "url_analise = input(\"Insira uma URL\")\n",
    "\n",
    "posicao_doispoints = url_analise.find(\":\")\n",
    "posicao_ponto = url_analise.find(\".\")\n",
    "posicao_barrafimdominio = url_analise.find(\"/\", posicao_ponto)\n",
    "posicao_interrogacao = url_analise.find(\"?\")\n",
    "\n",
    "protocolo = url_analise[:posicao_doispoints]\n",
    "print(\"Protocolo\", protocolo)\n",
    "\n",
    "dominio = url_analise[posicao_ponto+1:posicao_barrafimdominio]\n",
    "print(\"Domínio\", dominio)\n",
    "\n",
    "caminho = url_analise[posicao_barrafimdominio:posicao_interrogacao]\n",
    "print(\"Caminho\", caminho)\n",
    "\n",
    "texto_parametros_url = url_analise[posicao_interrogacao+1:]\n",
    "parametros_url = texto_parametros_url.split(\"&\")\n",
    "print(\"Parâmetros URL\", parametros_url)"
   ]
  },
  {
   "cell_type": "code",
   "execution_count": 43,
   "id": "26a1a3d9-fc84-4b22-ba1d-f7bdab3dfa07",
   "metadata": {},
   "outputs": [
    {
     "name": "stdin",
     "output_type": "stream",
     "text": [
      "Insira o e-mail aqui: gleicepag31@gmail.com\n"
     ]
    },
    {
     "name": "stdout",
     "output_type": "stream",
     "text": [
      "Email Válido\n"
     ]
    }
   ],
   "source": [
    "email = input(\"Insira o e-mail aqui:\")\n",
    "\n",
    "if \".com\" in email or \".gov\" in email:\n",
    "    if \"@\" in email and len(email) > 5 and \" \" not in email:\n",
    "        print(\"Email Válido\")\n",
    "    else:\n",
    "        print(\"Email Inválido\")\n",
    "else:\n",
    "        print(\"Email Inválido\")"
   ]
  },
  {
   "cell_type": "code",
   "execution_count": 45,
   "id": "7c01efab-a60e-45f0-99fa-e5df9da4bac7",
   "metadata": {},
   "outputs": [
    {
     "name": "stdin",
     "output_type": "stream",
     "text": [
      "Escreva uma tarefa para adicionar a sua ToDo List estudaR\n"
     ]
    },
    {
     "name": "stdout",
     "output_type": "stream",
     "text": [
      "Tarefa adicionada com sucesso: estudaR\n"
     ]
    },
    {
     "name": "stdin",
     "output_type": "stream",
     "text": [
      "Escreva uma tarefa para adicionar a sua ToDo List malhar\n"
     ]
    },
    {
     "name": "stdout",
     "output_type": "stream",
     "text": [
      "Tarefa adicionada com sucesso: malhar\n"
     ]
    },
    {
     "name": "stdin",
     "output_type": "stream",
     "text": [
      "Escreva uma tarefa para adicionar a sua ToDo List trabalhar\n"
     ]
    },
    {
     "name": "stdout",
     "output_type": "stream",
     "text": [
      "Tarefa adicionada com sucesso: trabalhar\n"
     ]
    },
    {
     "name": "stdin",
     "output_type": "stream",
     "text": [
      "Escreva uma tarefa para adicionar a sua ToDo List comer\n"
     ]
    },
    {
     "name": "stdout",
     "output_type": "stream",
     "text": [
      "Tarefa adicionada com sucesso: comer\n"
     ]
    },
    {
     "name": "stdin",
     "output_type": "stream",
     "text": [
      "Escreva uma tarefa para adicionar a sua ToDo List correr\n"
     ]
    },
    {
     "name": "stdout",
     "output_type": "stream",
     "text": [
      "Tarefa adicionada com sucesso: correr\n"
     ]
    },
    {
     "name": "stdin",
     "output_type": "stream",
     "text": [
      "Escreva uma tarefa para adicionar a sua ToDo List \n"
     ]
    },
    {
     "name": "stdout",
     "output_type": "stream",
     "text": [
      "Quantidade de tarefas para hoje: 5\n",
      "Tarefas\n",
      "estudaR\n",
      "malhar\n",
      "trabalhar\n",
      "comer\n",
      "correr\n"
     ]
    }
   ],
   "source": [
    "lista_tarefas = []\n",
    "\n",
    "while True:\n",
    "    tarefa = input(\"Escreva uma tarefa para adicionar a sua ToDo List\")\n",
    "    if tarefa == \"\":\n",
    "        break\n",
    "    else:\n",
    "        lista_tarefas.append(tarefa)\n",
    "        print(f\"Tarefa adicionada com sucesso: {tarefa}\")\n",
    "\n",
    "print(\"Quantidade de tarefas para hoje:\", len(lista_tarefas))\n",
    "texto_tarefas = \"\\n\".join(lista_tarefas)\n",
    "print(\"Tarefas\")\n",
    "print(texto_tarefas)"
   ]
  },
  {
   "cell_type": "code",
   "execution_count": 47,
   "id": "07649e6c-02c7-4e20-9574-ea1c8a6f76ee",
   "metadata": {},
   "outputs": [
    {
     "name": "stdout",
     "output_type": "stream",
     "text": [
      "Ciclano está devendo 1000 reais\n",
      "Beltrano está devendo 1900 reais\n",
      "João está devendo 900 reais\n",
      "Lira está devendo 1000 reais\n",
      "Alon está devendo 1990 reais\n",
      "5 estão devendo algum valor\n"
     ]
    }
   ],
   "source": [
    "pagamentos_alunos = {\n",
    "    \"André\": [2000],\n",
    "    \"Fulano\": [1000, 1000],\n",
    "    \"Ciclano\": [500, 500],\n",
    "    \"Beltrano\": [100], \n",
    "    \"João\": [100, 100, 100, 100, 100, 100, 100, 100, 100, 100, 100],\n",
    "    \"Amanda\": [200, 300, 250, 250, 500, 400, 100],\n",
    "    \"Lira\": [1000],\n",
    "    \"Alon\": [10]\n",
    "}\n",
    "\n",
    "\n",
    "preco_curso = 2000\n",
    "qtde_alunos_devendo = 0\n",
    "for aluno in pagamentos_alunos:\n",
    "    total_pago = sum(pagamentos_alunos[aluno])\n",
    "    if total_pago < preco_curso:\n",
    "        print(aluno, \"está devendo\", preco_curso - total_pago, \"reais\")\n",
    "        qtde_alunos_devendo += 1\n",
    "\n",
    "print(qtde_alunos_devendo, \"estão devendo algum valor\")"
   ]
  },
  {
   "cell_type": "code",
   "execution_count": 51,
   "id": "c5e6fc49-c5a3-41b1-90fa-8138bc9714f7",
   "metadata": {},
   "outputs": [
    {
     "name": "stdin",
     "output_type": "stream",
     "text": [
      "Senha gleice12345\n",
      "Confirmação de Senha gleice12345\n"
     ]
    },
    {
     "name": "stdout",
     "output_type": "stream",
     "text": [
      "Senha salva com sucesso\n"
     ]
    }
   ],
   "source": [
    "senha = input(\"Senha\")\n",
    "confirmacao_senha = input(\"Confirmação de Senha\")\n",
    "\n",
    "if senha != confirmacao_senha:\n",
    "    print(\"Senha e Confirmação são diferentes\")\n",
    "else:\n",
    "    if senha.isnumeric() or senha.isalpha():\n",
    "        print(\"Sua senha precisa ter letras e números\")\n",
    "    else:\n",
    "        if len(senha) < 8:\n",
    "            print(\"Sua senha precisa ter pelo menos 8 caracteres\")\n",
    "        else:\n",
    "            print(\"Senha salva com sucesso\")"
   ]
  },
  {
   "cell_type": "code",
   "execution_count": null,
   "id": "1615deb3-602d-46cb-b149-3928ef3ff9c6",
   "metadata": {},
   "outputs": [],
   "source": []
  }
 ],
 "metadata": {
  "kernelspec": {
   "display_name": "Python 3 (ipykernel)",
   "language": "python",
   "name": "python3"
  },
  "language_info": {
   "codemirror_mode": {
    "name": "ipython",
    "version": 3
   },
   "file_extension": ".py",
   "mimetype": "text/x-python",
   "name": "python",
   "nbconvert_exporter": "python",
   "pygments_lexer": "ipython3",
   "version": "3.12.4"
  }
 },
 "nbformat": 4,
 "nbformat_minor": 5
}
