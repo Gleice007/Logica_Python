{
 "cells": [
  {
   "cell_type": "markdown",
   "id": "f9a013f7-d421-4b4b-acf7-a72db9755dd5",
   "metadata": {},
   "source": [
    "# Estrutura while:\n",
    "\n",
    "## Funcionamento:\n",
    "Usamos o while quando queremos repetir um código de forma indeterminada até uma condição se torna verdadeira/falsa.\n",
    "\n",
    "A lógica é: enquanto a condição for verdadeira, o while executa o código. Assim que ela terminar de ser verdadeira, o código \"sai\" do while."
   ]
  },
  {
   "cell_type": "code",
   "execution_count": null,
   "id": "78382908-000c-4e26-8b45-80b0cecf9025",
   "metadata": {},
   "outputs": [],
   "source": [
    "while condicao:\n",
    "    repete esse código"
   ]
  },
  {
   "cell_type": "markdown",
   "id": "99e820f0-51b9-4278-9302-964921983091",
   "metadata": {},
   "source": [
    "    .Exemplo: Quando criamos automações na internet\n",
    "    .Exemplo2: Crie um programa que funcione como o registro de vendas de uma empresa.\n",
    "\n",
    "Nele, a pessoa deve inserir o nome do produto e o produto deve ser adicionado na lista de venda. Enquanto o usuário não encerra\n",
    "o programa, significa que ele está registrando novos produtos, então o programa deve permitir e entrada de quantos produtos o usuário quiser.\n"
   ]
  },
  {
   "cell_type": "code",
   "execution_count": 8,
   "id": "817887ab-df97-46cd-acd8-075b728cc2aa",
   "metadata": {},
   "outputs": [
    {
     "name": "stdin",
     "output_type": "stream",
     "text": [
      "Registre um produto. Para cancelar o registro de um novo produto, basta apertar enter com a caixa vazia arroz\n",
      "Registre um produto. Para cancelar o registro de um novo produto, basta apertar enter com a caixa vazia feijão\n",
      "Registre um produto. Para cancelar o registro de um novo produto, basta apertar enter com a caixa vazia macarram\n",
      "Registre um produto. Para cancelar o registro de um novo produto, basta apertar enter com a caixa vazia frango\n",
      "Registre um produto. Para cancelar o registro de um novo produto, basta apertar enter com a caixa vazia \n"
     ]
    },
    {
     "name": "stdout",
     "output_type": "stream",
     "text": [
      "Registro Finalizado. As vendas cadastradas foram: ['arroz', 'feijão', 'macarram', 'frango']\n"
     ]
    }
   ],
   "source": [
    "venda = input('Registre um produto. Para cancelar o registro de um novo produto, basta apertar enter com a caixa vazia')\n",
    "vendas = []\n",
    "\n",
    "while venda != '':\n",
    "    vendas.append(venda)\n",
    "    venda = input('Registre um produto. Para cancelar o registro de um novo produto, basta apertar enter com a caixa vazia')\n",
    "\n",
    "print('Registro Finalizado. As vendas cadastradas foram: {}'.format(vendas))"
   ]
  },
  {
   "cell_type": "markdown",
   "id": "b41ec1a0-9d83-475d-aa36-628f21696f70",
   "metadata": {},
   "source": [
    "# Cuidado com o while -> Loop Infinito\n",
    "Sempre que for usar o comando while, lembre-se de ter certeza que o programa vai terminar em algum momento\n",
    "\n",
    "# Exemplo\n",
    "Digamos que temos uma lista de vendedores e as quantidades vendidas e queremos identificar todos os vendedores que \n",
    "bateram a meta de 50 vendas."
   ]
  },
  {
   "cell_type": "code",
   "execution_count": 2,
   "id": "97e31378-03ad-4f21-a4f6-98bd0e8c4f7c",
   "metadata": {},
   "outputs": [
    {
     "name": "stdout",
     "output_type": "stream",
     "text": [
      "Maria bateu a meta. Vendas: 941\n",
      "José bateu a meta. Vendas: 852\n",
      "Antônio bateu a meta. Vendas: 783\n",
      "João bateu a meta. Vendas: 697\n",
      "Francisco bateu a meta. Vendas: 686\n",
      "Ana bateu a meta. Vendas: 685\n",
      "Luiz bateu a meta. Vendas: 670\n",
      "Paulo bateu a meta. Vendas: 631\n",
      "Carlos bateu a meta. Vendas: 453\n",
      "Manoel bateu a meta. Vendas: 386\n",
      "Pedro bateu a meta. Vendas: 371\n",
      "Francisco bateu a meta. Vendas: 294\n",
      "Marcos bateu a meta. Vendas: 269\n",
      "Raimundo bateu a meta. Vendas: 259\n",
      "Sebastião bateu a meta. Vendas: 218\n",
      "Antônia bateu a meta. Vendas: 208\n",
      "Marcelo bateu a meta. Vendas: 163\n",
      "Jorge bateu a meta. Vendas: 125\n",
      "Márcia bateu a meta. Vendas: 102\n",
      "Geraldo bateu a meta. Vendas: 87\n"
     ]
    }
   ],
   "source": [
    "vendas = [941, 852, 783, 697, 686, 685, 670, 631, 453, 386, 371, 294, 269, 259, 218, 208, 163, 125, 102, 87, 47, 7]\n",
    "vendedores = ['Maria', 'José', 'Antônio', 'João', 'Francisco', 'Ana', 'Luiz', 'Paulo', 'Carlos', 'Manoel', 'Pedro', 'Francisco', 'Marcos', 'Raimundo', 'Sebastião', 'Antônia', 'Marcelo', 'Jorge', 'Márcia', 'Geraldo', 'Adriana']\n",
    "meta = 50\n",
    "\n",
    "i = 0\n",
    "\n",
    "while vendas [i] > meta:\n",
    "    print('{} bateu a meta. Vendas: {}'.format(vendedores[i], vendas[i]))\n",
    "    i += 1"
   ]
  },
  {
   "cell_type": "code",
   "execution_count": null,
   "id": "a511c670-ecf3-4d40-ba38-87eabf8bc798",
   "metadata": {},
   "outputs": [],
   "source": []
  }
 ],
 "metadata": {
  "kernelspec": {
   "display_name": "Python 3 (ipykernel)",
   "language": "python",
   "name": "python3"
  },
  "language_info": {
   "codemirror_mode": {
    "name": "ipython",
    "version": 3
   },
   "file_extension": ".py",
   "mimetype": "text/x-python",
   "name": "python",
   "nbconvert_exporter": "python",
   "pygments_lexer": "ipython3",
   "version": "3.12.4"
  }
 },
 "nbformat": 4,
 "nbformat_minor": 5
}
