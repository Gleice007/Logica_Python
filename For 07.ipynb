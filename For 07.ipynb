{
 "cells": [
  {
   "cell_type": "markdown",
   "id": "dc68f48d-8121-4824-97fb-ee8d4f6fd752",
   "metadata": {},
   "source": [
    "# Formas de interromper um for\n",
    "\n",
    "## 2 Opções\n",
    ". break -> interrompe e finaliza o for\n",
    "\n",
    ". continue -> interrompe e vai para o próximo item do for "
   ]
  },
  {
   "cell_type": "code",
   "execution_count": 4,
   "id": "6d60a49c-2f41-4b15-9cca-2f23ab859654",
   "metadata": {},
   "outputs": [],
   "source": [
    "vendas = [100, 150, 1500, 2000, 120]"
   ]
  },
  {
   "cell_type": "markdown",
   "id": "3f3560d3-885b-4d91-81b2-74fab04039de",
   "metadata": {},
   "source": [
    ". Caso 1: Se todas as vendas forem acima da meta, a loja ganha bônus"
   ]
  },
  {
   "cell_type": "code",
   "execution_count": 10,
   "id": "23956665-83cd-4541-af00-e8597bbfea84",
   "metadata": {},
   "outputs": [
    {
     "name": "stdout",
     "output_type": "stream",
     "text": [
      "A loja não ganha bônus\n"
     ]
    }
   ],
   "source": [
    "meta = 110\n",
    "\n",
    "for venda in vendas:\n",
    "    if venda < meta:\n",
    "        print('A loja não ganha bônus')\n",
    "        break \n",
    "    print(venda)"
   ]
  },
  {
   "cell_type": "markdown",
   "id": "f9bb5930-8145-41e3-b608-6a400f5ad23d",
   "metadata": {},
   "source": [
    ". Caso 2: Exiba quem bateu a meta"
   ]
  },
  {
   "cell_type": "code",
   "execution_count": 12,
   "id": "0c11729c-aafb-4fd7-986d-28e0da15af21",
   "metadata": {},
   "outputs": [
    {
     "name": "stdout",
     "output_type": "stream",
     "text": [
      "150\n",
      "1500\n",
      "2000\n"
     ]
    }
   ],
   "source": [
    "vendedores = ['João', 'Julia', 'Ana', 'José', 'Maria']\n",
    "meta = 130\n",
    "\n",
    "for venda in vendas:\n",
    "    if venda < meta:\n",
    "        continue\n",
    "    print(venda)        "
   ]
  },
  {
   "cell_type": "code",
   "execution_count": null,
   "id": "08bb5479-294e-4f2f-ab22-aa9e4908f73c",
   "metadata": {},
   "outputs": [],
   "source": []
  }
 ],
 "metadata": {
  "kernelspec": {
   "display_name": "Python 3 (ipykernel)",
   "language": "python",
   "name": "python3"
  },
  "language_info": {
   "codemirror_mode": {
    "name": "ipython",
    "version": 3
   },
   "file_extension": ".py",
   "mimetype": "text/x-python",
   "name": "python",
   "nbconvert_exporter": "python",
   "pygments_lexer": "ipython3",
   "version": "3.12.4"
  }
 },
 "nbformat": 4,
 "nbformat_minor": 5
}
