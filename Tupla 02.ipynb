{
 "cells": [
  {
   "cell_type": "markdown",
   "id": "9122a0dc-ea09-47df-9439-511bf75314ef",
   "metadata": {},
   "source": [
    "# Aplicação de Tupla - Lista de Tuplas\n",
    "\n",
    "### Estrutura:\n",
    "\n",
    "Além de casos como o do enumerate, em que usamos uma função para transformar itens em tuplas porque isso ajuda o nosso código, temos também listas\n",
    "de tuplas como algo comum dentro do Python."
   ]
  },
  {
   "cell_type": "code",
   "execution_count": null,
   "id": "7fde1d90-5bc1-46c5-ba68-6250833c1609",
   "metadata": {},
   "outputs": [],
   "source": [
    "lista = [\n",
    "    tupla1,\n",
    "    tupla2,\n",
    "    tupla3,\n",
    "]\n",
    "\n",
    "ou seja \n",
    "\n",
    "lista = [\n",
    "    (valor1, valor2, valor3),\n",
    "    (valor4, valor5, valor6),\n",
    "    (valor7, valor8, valor9),\n",
    "]\n"
   ]
  },
  {
   "cell_type": "markdown",
   "id": "41fe788b-35bc-40b9-8ca6-0759a6e7fe64",
   "metadata": {},
   "source": [
    "### Exemplo:\n",
    "Digamos que você está analisando as vendas do Banco de Dados de um e-commerce\n",
    "\n",
    "Em um determinado dia, você extraiu as vendas do Banco de Dados e elas vieram nesse formato:"
   ]
  },
  {
   "cell_type": "code",
   "execution_count": null,
   "id": "4899bd59-63cb-4261-8001-da50003cd885",
   "metadata": {},
   "outputs": [],
   "source": []
  }
 ],
 "metadata": {
  "kernelspec": {
   "display_name": "Python 3 (ipykernel)",
   "language": "python",
   "name": "python3"
  },
  "language_info": {
   "codemirror_mode": {
    "name": "ipython",
    "version": 3
   },
   "file_extension": ".py",
   "mimetype": "text/x-python",
   "name": "python",
   "nbconvert_exporter": "python",
   "pygments_lexer": "ipython3",
   "version": "3.12.4"
  }
 },
 "nbformat": 4,
 "nbformat_minor": 5
}
